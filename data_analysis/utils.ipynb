{
 "cells": [
  {
   "cell_type": "code",
   "execution_count": 20,
   "metadata": {
    "collapsed": true
   },
   "outputs": [],
   "source": [
    "import copy\n",
    "import numpy as np\n",
    "import matplotlib.pyplot as plt\n",
    "from scipy.ndimage import label,sum_labels\n",
    "from scipy.signal import savgol_filter\n",
    "import os, pickle"
   ]
  },
  {
   "cell_type": "code",
   "execution_count": 22,
   "outputs": [],
   "source": [
    "def convert_bool_to_binary(bool_array):\n",
    "\n",
    "    return copy.copy(np.array(bool_array,\"int\"))\n",
    "    # binary_mask = np.zeros(bool_mask.shape,\"int\")\n",
    "    # binary_mask[bool_mask] = 1\n",
    "    #  binary_mask\n",
    "\n",
    "def column_dilation(array):\n",
    "    zeors = np.zeros((array.shape[0],array.shape[1]*2))\n",
    "    zeors[:,list(range(0,zeors.shape[1],2))] = array\n",
    "    return zeors\n",
    "\n",
    "def interpolate_data(array,undetected_bool):\n",
    "    array = copy.copy(array)\n",
    "    for col in range(array.shape[1]):\n",
    "        fp = array[:,col]\n",
    "        xp = np.arange(len(fp))\n",
    "        cells_to_interpolate = undetected_bool[:,col]\n",
    "        fp_nonan = fp[np.invert(cells_to_interpolate)]\n",
    "        xp_nonan = xp[np.invert(cells_to_interpolate)]\n",
    "        array[:,col] = np.interp(xp, xp_nonan, fp_nonan)\n",
    "    return array"
   ],
   "metadata": {
    "collapsed": false
   }
  },
  {
   "cell_type": "code",
   "execution_count": 218,
   "outputs": [],
   "source": [
    "class Prepare_data:\n",
    "    def __init__(self,directory,save_events=False):\n",
    "        self.directory = directory\n",
    "        self.load_data(directory)\n",
    "        self.original_N_ants = copy.copy(self.N_ants_around_springs)\n",
    "        self.load_starting_frame()\n",
    "        self.undetected_springs_bool = np.isnan(self.springs_length)\n",
    "        self.undetected_springs_for_long_time = self.filter_continuity(convert_bool_to_binary(self.undetected_springs_bool),min_size=8)\n",
    "        self.find_cells_to_interpolate()\n",
    "        self.N_ants_proccessing()\n",
    "        self.springs_length_proccessing()\n",
    "        self.springs_rest_lengths()\n",
    "        self.attaches_events(self.N_ants_around_springs)\n",
    "        self.labeled_zero_to_one_filtered = self.fiter_attaches_events(self.labeled_zero_to_one)\n",
    "        if save_events:\n",
    "            self.save_events(self.labeled_zero_to_one_filtered,self.directory)\n",
    "\n",
    "    def load_data(self,directory):\n",
    "        self.N_ants_around_springs = np.loadtxt(f\"{directory}N_ants_around_springs.csv\",delimiter=\",\")\n",
    "        self.size_ants_around_springs = np.loadtxt(f\"{directory}size_ants_around_springs.csv\",delimiter=\",\")\n",
    "        self.springs_length = np.loadtxt(f\"{directory}springs_length.csv\",delimiter=\",\")\n",
    "        self.springs_angles_to_nest = np.loadtxt(f\"{directory}springs_angles_to_nest.csv\",delimiter=\",\")\n",
    "        self.springs_angles_to_object = np.loadtxt(f\"{directory}springs_angles_to_object.csv\",delimiter=\",\")\n",
    "\n",
    "    def load_starting_frame(self):\n",
    "        path_parts =  os.path.normpath(self.directory).split('\\\\')\n",
    "        with open(os.path.join(\"Z:/Dor_Gabay/videos\",path_parts[-3],\"video_preferences.pickle\"), 'rb') as handle:\n",
    "            # self.startig_frame = pickle.load(handle)[\"Z:\\\\Dor_Gabay\\\\videos\\\\10.9\\\\plus0_force\\\\S5200007.MP4\"]['starting_frame']\n",
    "            path = f\"Z:\\\\Dor_Gabay\\\\videos\\\\{path_parts[-3]}\\\\{path_parts[-2]}\\\\{path_parts[-1]}.MP4\"\n",
    "            self.startig_frame = pickle.load(handle)[path]['starting_frame']\n",
    "            print(\"startig_frame:\",self.startig_frame)\n",
    "\n",
    "    def find_cells_to_interpolate(self):\n",
    "        self.cells_to_interpolate = copy.copy(self.undetected_springs_bool)\n",
    "        self.cells_to_interpolate[self.undetected_springs_for_long_time] = False\n",
    "\n",
    "    def filter_continuity(self,binary_array,min_size=0,max_size=np.inf):\n",
    "        binary_array_dilated = column_dilation(binary_array)\n",
    "        labeled,labels = label(binary_array_dilated)\n",
    "        labels = np.arange(labels+1)[1:]\n",
    "        labeled_summed = sum_labels(binary_array_dilated,labeled,index=labels).astype(int)\n",
    "        labels_to_remove = labels[np.invert((labeled_summed>min_size)&(labeled_summed<max_size))]\n",
    "        labeled[np.isin(labeled,labels_to_remove)]=0\n",
    "        labeled = labeled[:,list(range(0,labeled.shape[1],2))]\n",
    "        return labeled>=1\n",
    "\n",
    "    def N_ants_proccessing(self):\n",
    "        self.N_ants_around_springs = np.round(interpolate_data(self.N_ants_around_springs,self.cells_to_interpolate))\n",
    "        self.N_ants_around_springs[np.isnan(self.N_ants_around_springs)] = 0\n",
    "        self.N_ants_around_springs = self.smoothing_N_ants(self.N_ants_around_springs)\n",
    "        self.N_ants_around_springs[self.undetected_springs_for_long_time] = np.nan\n",
    "        all_small_attaches = np.zeros(self.N_ants_around_springs.shape,int)\n",
    "        for n in np.unique(self.N_ants_around_springs)[1:]:\n",
    "            if not np.isnan(n):\n",
    "                short_attaches = self.filter_continuity(self.N_ants_around_springs==n,max_size=30)\n",
    "                all_small_attaches[short_attaches] = 1\n",
    "        self.N_ants_around_springs = np.round(interpolate_data(self.N_ants_around_springs,all_small_attaches.astype(bool)))\n",
    "\n",
    "        # without_switching = self.clean_ant_switching(long_ant_attaches)\n",
    "        # without_switching[self.undetected_springs_for_long_time] = np.nan\n",
    "        # single_ant_attached_filtered = self.filter_continuity(without_switching==1,min_size=50)\n",
    "        # self.single_ant_attached_labeled, num_labels_zero = label(column_dilation(convert_bool_to_binary(single_ant_attached_filtered)))\n",
    "        # self.single_ant_attached_labeled = self.single_ant_attached_labeled[:,list(range(0,self.single_ant_attached_labeled.shape[1],2))]\n",
    "        # self.N_ants_around_springs[self.undetected_springs_for_long_time] = np.nan\n",
    "\n",
    "    def springs_length_proccessing(self):\n",
    "        self.springs_length_processed = copy.copy(self.springs_length)\n",
    "        self.springs_length_processed[np.invert(self.undetected_springs_bool)&np.isnan(self.springs_length)]=0\n",
    "        self.springs_length_processed = interpolate_data(self.springs_length_processed,self.cells_to_interpolate)\n",
    "\n",
    "\n",
    "    def smoothing_N_ants(self,array):\n",
    "        for col in range(array.shape[1]):\n",
    "            array[:,col] = np.abs(np.round(savgol_filter(array[:,col], 31, 2)))\n",
    "        return array\n",
    "\n",
    "    def attaches_events(self,N_ants_array):\n",
    "        N_ants_array = copy.copy(N_ants_array)\n",
    "        N_ants_array = column_dilation(N_ants_array)\n",
    "        diff = np.vstack((np.diff(N_ants_array,axis=0),np.zeros(N_ants_array.shape[1]).reshape(1,N_ants_array.shape[1])))\n",
    "        labeled_single_attaches,num_labels_single = label(convert_bool_to_binary(N_ants_array==1))\n",
    "        labeled_single_attaches_adapted = np.vstack((labeled_single_attaches,np.zeros(labeled_single_attaches.shape[1]).reshape(1,labeled_single_attaches.shape[1])))[1:,:]\n",
    "        labels_0_to_1 = np.unique(labeled_single_attaches_adapted[(diff==1)&(N_ants_array==0)])\n",
    "        labels_1_to_0 = np.unique(labeled_single_attaches_adapted[(diff==-1)&(N_ants_array==1)])\n",
    "        self.labeled_zero_to_one,_ = label(np.isin(labeled_single_attaches,labels_0_to_1))\n",
    "        self.labeled_zero_to_one = self.labeled_zero_to_one[:,list(range(0,self.labeled_zero_to_one.shape[1],2))]\n",
    "        self.labeled_one_to_zero,_ = label(np.isin(labeled_single_attaches,labels_1_to_0))\n",
    "        self.labeled_one_to_zero = self.labeled_one_to_zero[:,list(range(0,self.labeled_one_to_zero.shape[1],2))]\n",
    "\n",
    "    def fiter_attaches_events(self, labeled):\n",
    "        EVENT_LENGTH = 150\n",
    "        PRE_EVENT_LENGTH = 15\n",
    "        ar = self.labeled_zero_to_one\n",
    "        events_to_keep = []\n",
    "        self.events_sts = []\n",
    "        for event in np.unique(ar):\n",
    "            frames = np.where(ar[:,:]==event)[0]\n",
    "            pre_frames = np.arange(frames[0]-PRE_EVENT_LENGTH,frames[0]-1,1)\n",
    "            spring = np.where(ar[:,:]==event)[1][0]\n",
    "            # if len(frames)>EVENT_LENGTH:\n",
    "            if True:\n",
    "                if np.sum(np.isnan(self.N_ants_around_springs[frames[0]-10:frames[0],spring]))==0:\n",
    "                    pre_frames_lengths = np.take(self.springs_length_processed[:,spring],pre_frames)\n",
    "                    pre_frames_median = np.nanmedian(pre_frames_lengths)\n",
    "                    # if (not pre_frames_median<self.rest_length*0.8) & (not pre_frames_median>self.rest_length*1.2):\n",
    "                    if True:\n",
    "                        self.events_sts.append(np.nanstd(pre_frames_lengths)/pre_frames_median)\n",
    "                        # if not np.std()\n",
    "                        events_to_keep.append(event)\n",
    "        labeled = copy.copy(labeled)\n",
    "        labeled[np.invert(np.isin(labeled,events_to_keep))] = 0\n",
    "        labeled, _ =  label(labeled!=0)\n",
    "        return labeled\n",
    "\n",
    "    def clean_ant_switching(self,N_ants_array):\n",
    "        N_ants_array = copy.copy(N_ants_array)\n",
    "        N_ants_array = column_dilation(N_ants_array)\n",
    "        labeled_all_attaches,num_labels_all = label(convert_bool_to_binary(N_ants_array>=1))\n",
    "\n",
    "        labels_to_remove = np.unique(labeled_all_attaches[N_ants_array>1&np.isnan(N_ants_array)])\n",
    "        N_ants_array[np.isin(labeled_all_attaches,labels_to_remove)] = 0\n",
    "        N_ants_array = N_ants_array[:,list(range(0,N_ants_array.shape[1],2))]\n",
    "        return N_ants_array\n",
    "\n",
    "    def filter_by_ant_size(self):\n",
    "        from scipy.ndimage import median\n",
    "        self.size_ants_around_springs[np.isnan(self.size_ants_around_springs)] = 0\n",
    "        N_ants_for_mean = copy.copy(self.N_ants_around_springs)\n",
    "        N_ants_for_mean[self.size_ants_around_springs==0] = 0\n",
    "        median_size_over_N_ants = median(self.size_ants_around_springs,N_ants_for_mean.astype(int),index=np.unique(N_ants_for_mean))\n",
    "        # size_ants_around_springs[(smoothed_N_ants_without_short_attaches==1)&size_ants_around_springs*1.3<median_size_over_N_ants[1]] = 0\n",
    "        false_single_ants = (self.N_ants_around_springs==1)&(self.size_ants_around_springs>median_size_over_N_ants[1]*1.5)\n",
    "\n",
    "    def springs_rest_lengths(self):\n",
    "        ar = copy.copy(self.springs_length_processed)\n",
    "        ar[self.N_ants_around_springs!=0] = np.nan\n",
    "        ar = np.sort(ar,axis=0)\n",
    "        self.rest_lenghts = np.nanmedian(ar[:100],axis=0)\n",
    "        self.rest_length = np.median(self.rest_lenghts)\n",
    "\n",
    "    def events_hist(self):\n",
    "        number_of_seconds = sum_labels(convert_bool_to_binary(self.single_ant_attached_labeled>=1),self.single_ant_attached_labeled,np.unique(self.single_ant_attached_labeled))/50\n",
    "        plt.hist(number_of_seconds,bins=100)\n",
    "        plt.show()\n",
    "\n",
    "    def save_events(self,labeled_events,output_dir):\n",
    "        events = np.unique(labeled_events)[1:]\n",
    "        events_array = np.zeros((len(events),4),\"int\")\n",
    "        for event in events:\n",
    "            spring = np.where(labeled_events[:,:]==event)[1][0]\n",
    "            frames = np.where(labeled_events[:,:]==event)[0]\n",
    "            start_frame, end_frame = frames[0]+self.startig_frame,frames[-1]+self.startig_frame\n",
    "            events_array[event-1,:] = event,spring,start_frame,end_frame\n",
    "        headers = 'event_num,spring,start,end'\n",
    "        np.savetxt(output_dir + '/single_ants_events.csv', events_array, delimiter=',',header=headers)"
   ],
   "metadata": {
    "collapsed": false
   }
  },
  {
   "cell_type": "code",
   "execution_count": 287,
   "outputs": [
    {
     "name": "stdout",
     "output_type": "stream",
     "text": [
      "startig_frame: 75\n"
     ]
    }
   ],
   "source": [
    "# files = Prepare_data(\"Z:/Dor_Gabay/data/summer_2022/10.9/plus0_force/S5200007/\",save_events = True)\n",
    "files = Prepare_data(\"Z:/Dor_Gabay/data/test/10.9/plus0_force/S5200007/\",save_events = True)\n",
    "# files = Prepare_data(\"Z:/Dor_Gabay/data/test/18.9.22/plus0.5mm_force/S5290002/\",save_events = True)"
   ],
   "metadata": {
    "collapsed": false
   }
  },
  {
   "cell_type": "code",
   "execution_count": 261,
   "outputs": [
    {
     "data": {
      "text/plain": "array([[1., 2., 1., ..., 1., 2., 2.],\n       [1., 2., 1., ..., 1., 2., 2.],\n       [1., 2., 1., ..., 1., 2., 2.],\n       ...,\n       [1., 0., 1., ..., 0., 1., 0.],\n       [1., 1., 1., ..., 0., 1., 0.],\n       [1., 1., 1., ..., 0., 1., 0.]])"
     },
     "execution_count": 261,
     "metadata": {},
     "output_type": "execute_result"
    }
   ],
   "source": [
    "files.original_N_ants"
   ],
   "metadata": {
    "collapsed": false
   }
  },
  {
   "cell_type": "code",
   "execution_count": 286,
   "outputs": [
    {
     "data": {
      "text/plain": "array([[ 0.,  0.,  0., ...,  0., nan, nan],\n       [ 0.,  0.,  0., ...,  0., nan, nan],\n       [ 0.,  0.,  0., ...,  0., nan, nan],\n       ...,\n       [ 0.,  0.,  0., ...,  0.,  0.,  0.],\n       [ 0.,  0.,  0., ...,  0.,  0.,  0.],\n       [ 0.,  0.,  0., ...,  0.,  0.,  0.]])"
     },
     "execution_count": 286,
     "metadata": {},
     "output_type": "execute_result"
    }
   ],
   "source": [
    "files.N_ants_around_springs"
   ],
   "metadata": {
    "collapsed": false
   }
  },
  {
   "cell_type": "code",
   "execution_count": 92,
   "outputs": [
    {
     "data": {
      "text/plain": "array([1.])"
     },
     "execution_count": 92,
     "metadata": {},
     "output_type": "execute_result"
    }
   ],
   "source": [
    "np.unique(files.N_ants_around_springs[files.labeled_zero_to_one_filtered!=0])"
   ],
   "metadata": {
    "collapsed": false
   }
  },
  {
   "cell_type": "code",
   "execution_count": 294,
   "outputs": [
    {
     "name": "stdout",
     "output_type": "stream",
     "text": [
      "[ 1  2  3  4  5  6  7  8  9 10 11 12 13 14 15 16 17 18 19 20 21 22 23 24\n",
      " 25 26 27 28 29 30 31 32 33 34 35 36 37 38 39 40 41 42 43 44 45 46 47 48\n",
      " 49 50 51 52 53 54 55 56 57 58 59 60 61 62 63 64 65 66 67 68 69 70]\n",
      "75\n",
      "start_frame:  210\n",
      "end_frame:  871\n"
     ]
    },
    {
     "data": {
      "text/plain": "<Figure size 640x480 with 1 Axes>",
      "image/png": "[encoded data removed]"
     },
     "metadata": {},
     "output_type": "display_data"
    }
   ],
   "source": [
    "n= 2\n",
    "a = files.labeled_zero_to_one_filtered\n",
    "print(np.unique(a)[1:])\n",
    "frames_ori = np.where(a[:,:]==n)[0]\n",
    "x = np.append(np.arange(frames_ori[0]-50,frames_ori[0]-1,1),frames_ori)\n",
    "# spring = np.unique(np.where(a[:,:]==n)[1])[0]\n",
    "spring = np.where(a[:,:]==n)[1][0]\n",
    "y = files.springs_length_processed[:,spring]\n",
    "y = np.take(y,x)\n",
    "x = x+files.startig_frame\n",
    "print(files.startig_frame)\n",
    "plt.plot(x,y)\n",
    "plt.plot(np.repeat(frames_ori[0]+files.startig_frame,len(x)),np.linspace(np.nanmin(y),np.nanmax(y),len(x)))\n",
    "start_frame, end_frame = frames_ori[0]+files.startig_frame,frames_ori[-1]+files.startig_frame\n",
    "start_min, end_min = int(start_frame/50//60),int(end_frame/50//60)\n",
    "start_sec, end_sec = start_frame/50-60*start_min,end_frame/50-60*start_min\n",
    "\n",
    "print(\"start_frame: \",start_frame)\n",
    "\n",
    "print(\"end_frame: \",end_frame)\n",
    "plt.title(f\"Spring {spring} - start: {start_min}:{start_sec}, end: {end_min}:{end_sec}\")\n",
    "# plt.ylim((0,40))\n",
    "plt.show()"
   ],
   "metadata": {
    "collapsed": false
   }
  }
 ],
 "metadata": {
  "kernelspec": {
   "display_name": "Python 3",
   "language": "python",
   "name": "python3"
  },
  "language_info": {
   "codemirror_mode": {
    "name": "ipython",
    "version": 2
   },
   "file_extension": ".py",
   "mimetype": "text/x-python",
   "name": "python",
   "nbconvert_exporter": "python",
   "pygments_lexer": "ipython2",
   "version": "2.7.6"
  }
 },
 "nbformat": 4,
 "nbformat_minor": 0
}
